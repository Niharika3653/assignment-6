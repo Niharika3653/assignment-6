{
 "cells": [
  {
   "cell_type": "markdown",
   "id": "42cf47d7",
   "metadata": {},
   "source": [
    "# Write a Python function that generates all possible subsets of a given list recursively. For example, if the input list is [1, 2, 3], the output should be [], [1], [2], [3], [1, 2], [1, 3], [2, 3], [1, 2, 3].\n"
   ]
  },
  {
   "cell_type": "code",
   "execution_count": 1,
   "id": "48e53417",
   "metadata": {},
   "outputs": [],
   "source": [
    "def subset(l):\n",
    "    if l == []:\n",
    "        return [[]]\n",
    "    else:\n",
    "        x = subset(l[1:])\n",
    "        return x + [[l[0]] + y for y in x]"
   ]
  },
  {
   "cell_type": "code",
   "execution_count": 2,
   "id": "3f18980e",
   "metadata": {},
   "outputs": [
    {
     "name": "stdout",
     "output_type": "stream",
     "text": [
      "[[], [4], [3], [3, 4], [2], [2, 4], [2, 3], [2, 3, 4], [1], [1, 4], [1, 3], [1, 3, 4], [1, 2], [1, 2, 4], [1, 2, 3], [1, 2, 3, 4]]\n"
     ]
    }
   ],
   "source": [
    "l1 = [1,2,3,4]\n",
    "k = subset(l1)\n",
    "print(k)"
   ]
  },
  {
   "cell_type": "code",
   "execution_count": null,
   "id": "79bb661f",
   "metadata": {},
   "outputs": [],
   "source": []
  }
 ],
 "metadata": {
  "kernelspec": {
   "display_name": "Python 3 (ipykernel)",
   "language": "python",
   "name": "python3"
  },
  "language_info": {
   "codemirror_mode": {
    "name": "ipython",
    "version": 3
   },
   "file_extension": ".py",
   "mimetype": "text/x-python",
   "name": "python",
   "nbconvert_exporter": "python",
   "pygments_lexer": "ipython3",
   "version": "3.10.9"
  }
 },
 "nbformat": 4,
 "nbformat_minor": 5
}
